{
 "cells": [
  {
   "cell_type": "markdown",
   "metadata": {},
   "source": [
    "# Understanding Tesco Mobile reviews on Trustpilot\n",
    "\n",
    "The scope of this project includes:\n",
    "* scraping reviews from TrustPilot\n",
    "* training an NLP model to predict the sentiment of a new review \n",
    "* categorise reviews and track their scores over time "
   ]
  },
  {
   "cell_type": "code",
   "execution_count": 1,
   "metadata": {},
   "outputs": [],
   "source": [
    "# import basic modules\n",
    "import pandas as pd\n",
    "import numpy as np "
   ]
  },
  {
   "cell_type": "code",
   "execution_count": 6,
   "metadata": {},
   "outputs": [
    {
     "ename": "ModuleNotFoundError",
     "evalue": "No module named 'spacy'",
     "output_type": "error",
     "traceback": [
      "\u001b[1;31m---------------------------------------------------------------------------\u001b[0m",
      "\u001b[1;31mModuleNotFoundError\u001b[0m                       Traceback (most recent call last)",
      "\u001b[1;32m<ipython-input-6-44da09d9612b>\u001b[0m in \u001b[0;36m<module>\u001b[1;34m\u001b[0m\n\u001b[0;32m      1\u001b[0m \u001b[1;31m# import modules\u001b[0m\u001b[1;33m\u001b[0m\u001b[1;33m\u001b[0m\u001b[1;33m\u001b[0m\u001b[0m\n\u001b[1;32m----> 2\u001b[1;33m \u001b[1;32mimport\u001b[0m \u001b[0mspacy\u001b[0m\u001b[1;33m\u001b[0m\u001b[1;33m\u001b[0m\u001b[0m\n\u001b[0m\u001b[0;32m      3\u001b[0m \u001b[1;32mfrom\u001b[0m \u001b[0mspacy\u001b[0m\u001b[1;33m.\u001b[0m\u001b[0mmatcher\u001b[0m \u001b[1;32mimport\u001b[0m \u001b[0mPhraseMatcher\u001b[0m\u001b[1;33m\u001b[0m\u001b[1;33m\u001b[0m\u001b[0m\n",
      "\u001b[1;31mModuleNotFoundError\u001b[0m: No module named 'spacy'"
     ]
    }
   ],
   "source": [
    "# import modules\n",
    "import spacy\n",
    "from spacy.matcher import PhraseMatcher"
   ]
  },
  {
   "cell_type": "markdown",
   "metadata": {},
   "source": [
    "## Step 3: Categorise reviews based on their content"
   ]
  },
  {
   "cell_type": "code",
   "execution_count": null,
   "metadata": {},
   "outputs": [],
   "source": [
    "# load the dataset\n",
    "data = pd.read_csv(\n",
    "    '../data/tp_reviews_20180915_20200830.csv', \n",
    "    parse_dates=['published_date','updated_date','reported_date'])\n",
    "\n",
    "# inspect\n",
    "data.head()"
   ]
  },
  {
   "cell_type": "code",
   "execution_count": null,
   "metadata": {},
   "outputs": [],
   "source": [
    "#\n",
    "df = data.copy()\n",
    "\n",
    "# drop columns that we won't need \n",
    "to_drop = ['updated_date','reported_date']\n",
    "df.drop(columns=to_drop, axis=1, inplace=True)\n",
    "\n",
    "# rename published_date\n",
    "df.rename(columns={'published_date':'published_at'}, inplace=True)\n",
    "\n",
    "# inspect \n",
    "df.head()"
   ]
  },
  {
   "cell_type": "code",
   "execution_count": null,
   "metadata": {},
   "outputs": [],
   "source": [
    "# let's create some initial categories \n",
    "categories_dict = {\n",
    "    'customer service': ['customer service','customer services','customer care','staff','customer experience'],\n",
    "    'coverage': ['coverage','signal','no service'],\n",
    "    'internet': ['speed','4G','buffer','internet','data allowance','data'],\n",
    "    'billing': ['upfront cost','bill','payment','fees'],\n",
    "    'sim': ['sim only','SIM'],\n",
    "    'payg': ['pay as you go', 'topup','top up', 'top-up', 'rocket pack', 'rocketpack','rocketpacks','e-voucher','payg'],\n",
    "    'insurance': ['insurance'],\n",
    "    'clubcard': ['clubcard','clubcard plus','club card']}"
   ]
  },
  {
   "cell_type": "code",
   "execution_count": null,
   "metadata": {},
   "outputs": [],
   "source": [
    "# create a lookup table that we can reference later\n",
    "categories = []\n",
    "words = []\n",
    "\n",
    "for cat, terms in categories_dict.items():\n",
    "    for word in terms:\n",
    "        words.append(word)\n",
    "        categories.append(cat)\n",
    "        \n",
    "# \n",
    "categories = pd.Series(categories, name='cat')\n",
    "words = pd.Series(words, name='term')\n",
    "\n",
    "# join \n",
    "categories_df = pd.DataFrame(words).join(categories)\n",
    "\n",
    "# inspect\n",
    "categories_df.head()"
   ]
  },
  {
   "cell_type": "code",
   "execution_count": null,
   "metadata": {
    "scrolled": true
   },
   "outputs": [],
   "source": [
    "# turn the categories into a list because I think it's what spacy needs \n",
    "cat_list = categories_df['term'].to_list()"
   ]
  },
  {
   "cell_type": "code",
   "execution_count": null,
   "metadata": {},
   "outputs": [],
   "source": []
  },
  {
   "cell_type": "code",
   "execution_count": null,
   "metadata": {},
   "outputs": [],
   "source": []
  },
  {
   "cell_type": "code",
   "execution_count": null,
   "metadata": {},
   "outputs": [],
   "source": []
  },
  {
   "cell_type": "code",
   "execution_count": null,
   "metadata": {},
   "outputs": [],
   "source": []
  }
 ],
 "metadata": {
  "kernelspec": {
   "display_name": "Python 3",
   "language": "python",
   "name": "python3"
  },
  "language_info": {
   "codemirror_mode": {
    "name": "ipython",
    "version": 3
   },
   "file_extension": ".py",
   "mimetype": "text/x-python",
   "name": "python",
   "nbconvert_exporter": "python",
   "pygments_lexer": "ipython3",
   "version": "3.8.3"
  }
 },
 "nbformat": 4,
 "nbformat_minor": 4
}
