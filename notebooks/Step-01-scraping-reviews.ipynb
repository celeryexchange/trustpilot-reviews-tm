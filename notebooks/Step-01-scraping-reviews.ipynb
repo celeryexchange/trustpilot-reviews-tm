{
 "cells": [
  {
   "cell_type": "markdown",
   "metadata": {},
   "source": [
    "# Understanding Tesco Mobile reviews on Trustpilot\n",
    "\n",
    "The scope of this project includes:\n",
    "* scraping reviews from TrustPilot\n",
    "* training an NLP model to predict the sentiment of a new review \n",
    "* categorise reviews and track their scores over time "
   ]
  },
  {
   "cell_type": "code",
   "execution_count": 1,
   "metadata": {},
   "outputs": [],
   "source": [
    "# import basic modules\n",
    "import pandas as pd\n",
    "import numpy as np \n",
    "import requests"
   ]
  },
  {
   "cell_type": "markdown",
   "metadata": {},
   "source": [
    "## Step 1a: Scraping reviews with BeautifulSoup"
   ]
  },
  {
   "cell_type": "code",
   "execution_count": 2,
   "metadata": {},
   "outputs": [],
   "source": [
    "from bs4 import BeautifulSoup\n",
    "import json\n",
    "import re "
   ]
  },
  {
   "cell_type": "markdown",
   "metadata": {},
   "source": [
    "### Development: extract reviews only from the first page"
   ]
  },
  {
   "cell_type": "code",
   "execution_count": null,
   "metadata": {},
   "outputs": [],
   "source": [
    "# URL\n",
    "URL = 'https://uk.trustpilot.com/review/tescomobile.com?page=1'"
   ]
  },
  {
   "cell_type": "code",
   "execution_count": null,
   "metadata": {},
   "outputs": [],
   "source": [
    "# get the contents of the first page \n",
    "page = requests.get(URL)\n",
    "soup = BeautifulSoup(page.content, 'html.parser')"
   ]
  },
  {
   "cell_type": "code",
   "execution_count": null,
   "metadata": {},
   "outputs": [],
   "source": [
    "# find all containers with reviews (20x per page)\n",
    "review_cards = soup.find_all('div', class_='review-card')\n",
    "review_cards_json = soup.find_all('script', {'data-initial-state':'review-info'})"
   ]
  },
  {
   "cell_type": "code",
   "execution_count": null,
   "metadata": {},
   "outputs": [],
   "source": [
    "# instantiate empty lists\n",
    "review_id = []\n",
    "published_date = []\n",
    "updated_date = []\n",
    "reported_date = []\n",
    "review_stars = []\n",
    "review_text = []\n",
    "\n",
    "for card in review_cards:\n",
    "    # extract review id\n",
    "    rid = card.find('article', {'class':'review'})['id']\n",
    "\n",
    "    # extract review dates \n",
    "    review_dates_json = card.find('script', {'data-initial-state':'review-dates'})\n",
    "    review_dates = json.loads(review_dates_json.text)\n",
    "    pub_date = review_dates['publishedDate']\n",
    "    upd_date = review_dates['updatedDate']\n",
    "    rep_date = review_dates['reportedDate']\n",
    "\n",
    "    # extract star rating \n",
    "    star_rating = card.find('div', class_='star-rating').find('img')['alt']\n",
    "    stars = int(re.findall(r'\\d', star_rating)[0])\n",
    "\n",
    "    # extract review text \n",
    "    review_content = card.find('p', class_='review-content__text').text.strip()\n",
    "\n",
    "    # append extracted information\n",
    "    review_id.append(rid)\n",
    "    published_date.append(pub_date)\n",
    "    updated_date.append(upd_date)\n",
    "    reported_date.append(rep_date)\n",
    "    review_stars.append(stars)\n",
    "    review_text.append(review_content)"
   ]
  },
  {
   "cell_type": "code",
   "execution_count": null,
   "metadata": {
    "scrolled": true
   },
   "outputs": [],
   "source": [
    "# inspect\n",
    "review_stars"
   ]
  },
  {
   "cell_type": "code",
   "execution_count": 10,
   "metadata": {},
   "outputs": [
    {
     "data": {
      "text/html": [
       "<div>\n",
       "<style scoped>\n",
       "    .dataframe tbody tr th:only-of-type {\n",
       "        vertical-align: middle;\n",
       "    }\n",
       "\n",
       "    .dataframe tbody tr th {\n",
       "        vertical-align: top;\n",
       "    }\n",
       "\n",
       "    .dataframe thead th {\n",
       "        text-align: right;\n",
       "    }\n",
       "</style>\n",
       "<table border=\"1\" class=\"dataframe\">\n",
       "  <thead>\n",
       "    <tr style=\"text-align: right;\">\n",
       "      <th></th>\n",
       "      <th>review_id</th>\n",
       "      <th>published_date</th>\n",
       "      <th>updated_date</th>\n",
       "      <th>reported_date</th>\n",
       "      <th>stars</th>\n",
       "      <th>review_text</th>\n",
       "    </tr>\n",
       "  </thead>\n",
       "  <tbody>\n",
       "    <tr>\n",
       "      <th>0</th>\n",
       "      <td>5f4cece702e8570814fc9996</td>\n",
       "      <td>2020-08-31T12:28:23Z</td>\n",
       "      <td>None</td>\n",
       "      <td>None</td>\n",
       "      <td>1</td>\n",
       "      <td>No signal coverage where my vodaphone account ...</td>\n",
       "    </tr>\n",
       "    <tr>\n",
       "      <th>1</th>\n",
       "      <td>5f4c131402e8570814fc4828</td>\n",
       "      <td>2020-08-30T20:59:00Z</td>\n",
       "      <td>None</td>\n",
       "      <td>None</td>\n",
       "      <td>1</td>\n",
       "      <td>I tried to get a contact for my youngest son, ...</td>\n",
       "    </tr>\n",
       "    <tr>\n",
       "      <th>2</th>\n",
       "      <td>5f4b850e02e8570814fc02d7</td>\n",
       "      <td>2020-08-30T10:53:02Z</td>\n",
       "      <td>None</td>\n",
       "      <td>None</td>\n",
       "      <td>1</td>\n",
       "      <td>Can't top up my pay as you go account online, ...</td>\n",
       "    </tr>\n",
       "    <tr>\n",
       "      <th>3</th>\n",
       "      <td>5f4b5bfb02e85708c8dbd7b8</td>\n",
       "      <td>2020-08-30T07:57:47Z</td>\n",
       "      <td>None</td>\n",
       "      <td>None</td>\n",
       "      <td>1</td>\n",
       "      <td>I was told that tesco mobile was the same as O...</td>\n",
       "    </tr>\n",
       "    <tr>\n",
       "      <th>4</th>\n",
       "      <td>5f4ac13902e8570814fbd182</td>\n",
       "      <td>2020-08-29T20:57:29Z</td>\n",
       "      <td>None</td>\n",
       "      <td>None</td>\n",
       "      <td>1</td>\n",
       "      <td>“I can only apologise” should be Tesco mobiles...</td>\n",
       "    </tr>\n",
       "  </tbody>\n",
       "</table>\n",
       "</div>"
      ],
      "text/plain": [
       "                  review_id        published_date updated_date reported_date  \\\n",
       "0  5f4cece702e8570814fc9996  2020-08-31T12:28:23Z         None          None   \n",
       "1  5f4c131402e8570814fc4828  2020-08-30T20:59:00Z         None          None   \n",
       "2  5f4b850e02e8570814fc02d7  2020-08-30T10:53:02Z         None          None   \n",
       "3  5f4b5bfb02e85708c8dbd7b8  2020-08-30T07:57:47Z         None          None   \n",
       "4  5f4ac13902e8570814fbd182  2020-08-29T20:57:29Z         None          None   \n",
       "\n",
       "   stars                                        review_text  \n",
       "0      1  No signal coverage where my vodaphone account ...  \n",
       "1      1  I tried to get a contact for my youngest son, ...  \n",
       "2      1  Can't top up my pay as you go account online, ...  \n",
       "3      1  I was told that tesco mobile was the same as O...  \n",
       "4      1  “I can only apologise” should be Tesco mobiles...  "
      ]
     },
     "execution_count": 10,
     "metadata": {},
     "output_type": "execute_result"
    }
   ],
   "source": [
    "# create a DataFrame\n",
    "df = pd.DataFrame({\n",
    "    'review_id': review_id, \n",
    "    'published_date': published_date,\n",
    "    'updated_date': updated_date,\n",
    "    'reported_date': reported_date,\n",
    "    'stars': review_stars,\n",
    "    'review_text': review_text})\n",
    "\n",
    "# inspect\n",
    "df.head()"
   ]
  },
  {
   "cell_type": "markdown",
   "metadata": {},
   "source": [
    "### Production: Create functions to extract pages of reviews"
   ]
  },
  {
   "cell_type": "code",
   "execution_count": 22,
   "metadata": {},
   "outputs": [],
   "source": [
    "# create a function to loop across pages and extract information from them\n",
    "def scrape_trustpilot(url, num_pages=1):\n",
    "    \"\"\" Scrape n pages of reviews from Truspilot starting from the oldest in the range.\"\"\"\n",
    "    \n",
    "    for i in range(num_pages, 0, -1):\n",
    "        # construct URL\n",
    "        url_fin = url + '?page=' + str(i)\n",
    "        \n",
    "        # get the contents of the first page \n",
    "        print(f'Page: {i:3} ...', end=' ')\n",
    "        page = requests.get(url_fin)\n",
    "        soup = BeautifulSoup(page.content, 'html.parser') \n",
    "        \n",
    "        # find all review cards\n",
    "        review_cards = soup.find_all('div', class_='review-card')\n",
    "        \n",
    "        # \n",
    "        extract_one_page(review_cards)\n",
    "        print('done')\n",
    "        \n",
    "\n",
    "# create a function to scrape each page \n",
    "def extract_one_page(review_cards):\n",
    "    for card in review_cards:\n",
    "        # extract review id\n",
    "        rid = card.find('article', {'class':'review'})['id']\n",
    "        \n",
    "        # extract review dates \n",
    "        review_dates_json = card.find('script', {'data-initial-state':'review-dates'})\n",
    "        review_dates = json.loads(review_dates_json.text)\n",
    "        pub_date = review_dates['publishedDate']\n",
    "        upd_date = review_dates['updatedDate']\n",
    "        rep_date = review_dates['reportedDate']\n",
    "        \n",
    "        # extract star rating \n",
    "        star_rating = card.find('div', class_='star-rating').find('img')['alt']\n",
    "        stars = int(re.findall(r'\\d', star_rating)[0])\n",
    "        \n",
    "        # extract review text \n",
    "        # sometimes, review text can be None\n",
    "        try:\n",
    "            review_content = card.find('p', class_='review-content__text').text.strip()\n",
    "        except:\n",
    "            review_content = np.nan\n",
    "        \n",
    "        # append extracted information\n",
    "        review_id.append(rid)\n",
    "        published_date.append(pub_date)\n",
    "        updated_date.append(upd_date)\n",
    "        reported_date.append(rep_date)\n",
    "        review_stars.append(stars)\n",
    "        review_text.append(review_content)\n",
    "        \n",
    "def clear_contents():\n",
    "#     global review_id, published_date\n",
    "    list_of_globals = globals()\n",
    "    list_of_globals['review_id'] = []\n",
    "    list_of_globals['published_date'] = []\n",
    "    list_of_globals['updated_date'] = []\n",
    "    list_of_globals['reported_date'] = []\n",
    "    list_of_globals['review_stars'] = []\n",
    "    list_of_globals['review_text'] = []\n",
    "    \n",
    "    list_of_globals['df'] = pd.DataFrame()"
   ]
  },
  {
   "cell_type": "code",
   "execution_count": 23,
   "metadata": {},
   "outputs": [
    {
     "name": "stdout",
     "output_type": "stream",
     "text": [
      "Page:  40 ... done\n",
      "Page:  39 ... done\n",
      "Page:  38 ... done\n",
      "Page:  37 ... done\n",
      "Page:  36 ... done\n",
      "Page:  35 ... done\n",
      "Page:  34 ... done\n",
      "Page:  33 ... done\n",
      "Page:  32 ... done\n",
      "Page:  31 ... done\n",
      "Page:  30 ... done\n",
      "Page:  29 ... done\n",
      "Page:  28 ... done\n",
      "Page:  27 ... done\n",
      "Page:  26 ... done\n",
      "Page:  25 ... done\n",
      "Page:  24 ... done\n",
      "Page:  23 ... done\n",
      "Page:  22 ... done\n",
      "Page:  21 ... done\n",
      "Page:  20 ... done\n",
      "Page:  19 ... done\n",
      "Page:  18 ... done\n",
      "Page:  17 ... done\n",
      "Page:  16 ... done\n",
      "Page:  15 ... done\n",
      "Page:  14 ... done\n",
      "Page:  13 ... done\n",
      "Page:  12 ... done\n",
      "Page:  11 ... done\n",
      "Page:  10 ... done\n",
      "Page:   9 ... done\n",
      "Page:   8 ... done\n",
      "Page:   7 ... done\n",
      "Page:   6 ... done\n",
      "Page:   5 ... done\n",
      "Page:   4 ... done\n",
      "Page:   3 ... done\n",
      "Page:   2 ... done\n",
      "Page:   1 ... done\n"
     ]
    }
   ],
   "source": [
    "# extract reviews\n",
    "# at most tried with 40 pages and it worked ok \n",
    "clear_contents()\n",
    "scrape_trustpilot('https://uk.trustpilot.com/review/tescomobile.com', num_pages=1)"
   ]
  },
  {
   "cell_type": "code",
   "execution_count": 24,
   "metadata": {},
   "outputs": [
    {
     "data": {
      "text/html": [
       "<div>\n",
       "<style scoped>\n",
       "    .dataframe tbody tr th:only-of-type {\n",
       "        vertical-align: middle;\n",
       "    }\n",
       "\n",
       "    .dataframe tbody tr th {\n",
       "        vertical-align: top;\n",
       "    }\n",
       "\n",
       "    .dataframe thead th {\n",
       "        text-align: right;\n",
       "    }\n",
       "</style>\n",
       "<table border=\"1\" class=\"dataframe\">\n",
       "  <thead>\n",
       "    <tr style=\"text-align: right;\">\n",
       "      <th></th>\n",
       "      <th>review_id</th>\n",
       "      <th>published_date</th>\n",
       "      <th>updated_date</th>\n",
       "      <th>reported_date</th>\n",
       "      <th>stars</th>\n",
       "      <th>review_text</th>\n",
       "    </tr>\n",
       "  </thead>\n",
       "  <tbody>\n",
       "    <tr>\n",
       "      <th>0</th>\n",
       "      <td>5bb72dd69d37800b64319d20</td>\n",
       "      <td>2018-10-05T09:24:38Z</td>\n",
       "      <td>None</td>\n",
       "      <td>None</td>\n",
       "      <td>5</td>\n",
       "      <td>great service and on the one occasion i had a ...</td>\n",
       "    </tr>\n",
       "    <tr>\n",
       "      <th>1</th>\n",
       "      <td>5bb6969b9d37800b64317ffe</td>\n",
       "      <td>2018-10-04T22:39:23Z</td>\n",
       "      <td>None</td>\n",
       "      <td>None</td>\n",
       "      <td>5</td>\n",
       "      <td>Carl from the escalations team had a lovely ma...</td>\n",
       "    </tr>\n",
       "    <tr>\n",
       "      <th>2</th>\n",
       "      <td>5bb60cd49d37800734d8ad92</td>\n",
       "      <td>2018-10-04T12:51:32Z</td>\n",
       "      <td>None</td>\n",
       "      <td>None</td>\n",
       "      <td>4</td>\n",
       "      <td>Has been so straightforward since we switched ...</td>\n",
       "    </tr>\n",
       "    <tr>\n",
       "      <th>3</th>\n",
       "      <td>5bb2f4508c83fd0b58de76a2</td>\n",
       "      <td>2018-10-02T04:30:08Z</td>\n",
       "      <td>None</td>\n",
       "      <td>None</td>\n",
       "      <td>1</td>\n",
       "      <td>I made a very bad decision to sign a 12 month ...</td>\n",
       "    </tr>\n",
       "    <tr>\n",
       "      <th>4</th>\n",
       "      <td>5bb0b5048c83fd06e0c61921</td>\n",
       "      <td>2018-09-30T11:35:32Z</td>\n",
       "      <td>None</td>\n",
       "      <td>None</td>\n",
       "      <td>5</td>\n",
       "      <td>Quick advice and did the job efficiently!</td>\n",
       "    </tr>\n",
       "  </tbody>\n",
       "</table>\n",
       "</div>"
      ],
      "text/plain": [
       "                  review_id        published_date updated_date reported_date  \\\n",
       "0  5bb72dd69d37800b64319d20  2018-10-05T09:24:38Z         None          None   \n",
       "1  5bb6969b9d37800b64317ffe  2018-10-04T22:39:23Z         None          None   \n",
       "2  5bb60cd49d37800734d8ad92  2018-10-04T12:51:32Z         None          None   \n",
       "3  5bb2f4508c83fd0b58de76a2  2018-10-02T04:30:08Z         None          None   \n",
       "4  5bb0b5048c83fd06e0c61921  2018-09-30T11:35:32Z         None          None   \n",
       "\n",
       "   stars                                        review_text  \n",
       "0      5  great service and on the one occasion i had a ...  \n",
       "1      5  Carl from the escalations team had a lovely ma...  \n",
       "2      4  Has been so straightforward since we switched ...  \n",
       "3      1  I made a very bad decision to sign a 12 month ...  \n",
       "4      5          Quick advice and did the job efficiently!  "
      ]
     },
     "execution_count": 24,
     "metadata": {},
     "output_type": "execute_result"
    }
   ],
   "source": [
    "# create a DataFrame\n",
    "df = pd.DataFrame({\n",
    "    'review_id': review_id, \n",
    "    'published_date': published_date,\n",
    "    'updated_date': updated_date,\n",
    "    'reported_date': reported_date,\n",
    "    'stars': review_stars,\n",
    "    'review_text': review_text})\n",
    "\n",
    "# inspect\n",
    "df.head()"
   ]
  },
  {
   "cell_type": "code",
   "execution_count": 25,
   "metadata": {},
   "outputs": [],
   "source": [
    "# parse dates \n",
    "date_cols = ['published_date','updated_date','reported_date']\n",
    "\n",
    "for col in date_cols:\n",
    "    df[col] = pd.to_datetime(df[col])"
   ]
  },
  {
   "cell_type": "code",
   "execution_count": 26,
   "metadata": {
    "scrolled": false
   },
   "outputs": [
    {
     "name": "stdout",
     "output_type": "stream",
     "text": [
      "<class 'pandas.core.frame.DataFrame'>\n",
      "RangeIndex: 800 entries, 0 to 799\n",
      "Data columns (total 6 columns):\n",
      " #   Column          Non-Null Count  Dtype              \n",
      "---  ------          --------------  -----              \n",
      " 0   review_id       800 non-null    object             \n",
      " 1   published_date  800 non-null    datetime64[ns, UTC]\n",
      " 2   updated_date    162 non-null    datetime64[ns, UTC]\n",
      " 3   reported_date   0 non-null      datetime64[ns]     \n",
      " 4   stars           800 non-null    int64              \n",
      " 5   review_text     798 non-null    object             \n",
      "dtypes: datetime64[ns, UTC](2), datetime64[ns](1), int64(1), object(2)\n",
      "memory usage: 37.6+ KB\n"
     ]
    }
   ],
   "source": [
    "# inspect stats \n",
    "df.info()"
   ]
  },
  {
   "cell_type": "code",
   "execution_count": 33,
   "metadata": {},
   "outputs": [],
   "source": [
    "# export data to .csv\n",
    "df.to_csv('../data/tp_reviews_20180915_20200830.csv', index=False)"
   ]
  },
  {
   "cell_type": "markdown",
   "metadata": {},
   "source": [
    "### Data Validation (draft)"
   ]
  },
  {
   "cell_type": "code",
   "execution_count": 27,
   "metadata": {},
   "outputs": [
    {
     "data": {
      "text/plain": [
       "Timestamp('2018-09-14 18:03:45+0000', tz='UTC')"
      ]
     },
     "execution_count": 27,
     "metadata": {},
     "output_type": "execute_result"
    }
   ],
   "source": [
    "# oldest review\n",
    "df['published_date'].min()"
   ]
  },
  {
   "cell_type": "code",
   "execution_count": 29,
   "metadata": {},
   "outputs": [
    {
     "data": {
      "text/plain": [
       "<matplotlib.axes._subplots.AxesSubplot at 0x1d674cbe308>"
      ]
     },
     "execution_count": 29,
     "metadata": {},
     "output_type": "execute_result"
    },
    {
     "data": {
      "image/png": "[encoded data removed]",
      "text/plain": [
       "<Figure size 432x288 with 1 Axes>"
      ]
     },
     "metadata": {
      "needs_background": "light"
     },
     "output_type": "display_data"
    }
   ],
   "source": [
    "# distribution of star ratings \n",
    "import matplotlib.pyplot as plt \n",
    "import seaborn as sns \n",
    "\n",
    "sns.countplot(df['stars'])"
   ]
  },
  {
   "cell_type": "code",
   "execution_count": 30,
   "metadata": {},
   "outputs": [
    {
     "data": {
      "text/plain": [
       "2.095"
      ]
     },
     "execution_count": 30,
     "metadata": {},
     "output_type": "execute_result"
    }
   ],
   "source": [
    "# average star rating \n",
    "df['stars'].mean()"
   ]
  },
  {
   "cell_type": "code",
   "execution_count": 31,
   "metadata": {},
   "outputs": [
    {
     "data": {
      "text/plain": [
       "Text(0.5, 1.0, 'Average rating of new reviews')"
      ]
     },
     "execution_count": 31,
     "metadata": {},
     "output_type": "execute_result"
    },
    {
     "data": {
      "image/png": "[encoded data removed]",
      "text/plain": [
       "<Figure size 1008x288 with 1 Axes>"
      ]
     },
     "metadata": {
      "needs_background": "light"
     },
     "output_type": "display_data"
    }
   ],
   "source": [
    "# average rating by day\n",
    "ratings = df[['published_date','stars']].sort_values('published_date').set_index('published_date')\n",
    "daily_average_7 = ratings.rolling('7D').mean()\n",
    "\n",
    "# plot it \n",
    "plt.figure(figsize=(14,4))\n",
    "plt.plot(daily_average_7[7:])\n",
    "\n",
    "# annotate it \n",
    "plt.title('Average rating of new reviews')"
   ]
  },
  {
   "cell_type": "code",
   "execution_count": 32,
   "metadata": {},
   "outputs": [
    {
     "data": {
      "text/html": [
       "<div>\n",
       "<style scoped>\n",
       "    .dataframe tbody tr th:only-of-type {\n",
       "        vertical-align: middle;\n",
       "    }\n",
       "\n",
       "    .dataframe tbody tr th {\n",
       "        vertical-align: top;\n",
       "    }\n",
       "\n",
       "    .dataframe thead th {\n",
       "        text-align: right;\n",
       "    }\n",
       "</style>\n",
       "<table border=\"1\" class=\"dataframe\">\n",
       "  <thead>\n",
       "    <tr style=\"text-align: right;\">\n",
       "      <th></th>\n",
       "      <th>review_id</th>\n",
       "      <th>published_date</th>\n",
       "      <th>updated_date</th>\n",
       "      <th>reported_date</th>\n",
       "      <th>stars</th>\n",
       "      <th>review_text</th>\n",
       "    </tr>\n",
       "  </thead>\n",
       "  <tbody>\n",
       "    <tr>\n",
       "      <th>97</th>\n",
       "      <td>5c051b0c9d378001dcb75e1c</td>\n",
       "      <td>2018-12-03 12:01:16+00:00</td>\n",
       "      <td>NaT</td>\n",
       "      <td>NaT</td>\n",
       "      <td>5</td>\n",
       "      <td>NaN</td>\n",
       "    </tr>\n",
       "    <tr>\n",
       "      <th>427</th>\n",
       "      <td>5db2eeba60485808c0be94ac</td>\n",
       "      <td>2019-10-25 12:46:50+00:00</td>\n",
       "      <td>NaT</td>\n",
       "      <td>NaT</td>\n",
       "      <td>1</td>\n",
       "      <td>NaN</td>\n",
       "    </tr>\n",
       "  </tbody>\n",
       "</table>\n",
       "</div>"
      ],
      "text/plain": [
       "                    review_id            published_date updated_date  \\\n",
       "97   5c051b0c9d378001dcb75e1c 2018-12-03 12:01:16+00:00          NaT   \n",
       "427  5db2eeba60485808c0be94ac 2019-10-25 12:46:50+00:00          NaT   \n",
       "\n",
       "    reported_date  stars review_text  \n",
       "97            NaT      5         NaN  \n",
       "427           NaT      1         NaN  "
      ]
     },
     "execution_count": 32,
     "metadata": {},
     "output_type": "execute_result"
    }
   ],
   "source": [
    "df[df['review_text'].isna()]"
   ]
  },
  {
   "cell_type": "code",
   "execution_count": null,
   "metadata": {},
   "outputs": [],
   "source": []
  }
 ],
 "metadata": {
  "kernelspec": {
   "display_name": "Python [conda env:root] *",
   "language": "python",
   "name": "conda-root-py"
  },
  "language_info": {
   "codemirror_mode": {
    "name": "ipython",
    "version": 3
   },
   "file_extension": ".py",
   "mimetype": "text/x-python",
   "name": "python",
   "nbconvert_exporter": "python",
   "pygments_lexer": "ipython3",
   "version": "3.7.7"
  }
 },
 "nbformat": 4,
 "nbformat_minor": 4
}
