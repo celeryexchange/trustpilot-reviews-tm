{
 "cells": [
  {
   "cell_type": "markdown",
   "metadata": {},
   "source": [
    "# Understanding Tesco Mobile reviews on Trustpilot\n",
    "\n",
    "The scope of this project includes:\n",
    "* scraping reviews from TrustPilot\n",
    "* training an NLP model to predict the sentiment of a new review \n",
    "* categorise reviews and track their scores over time "
   ]
  },
  {
   "cell_type": "code",
   "execution_count": 1,
   "metadata": {},
   "outputs": [],
   "source": [
    "# import basic modules\n",
    "import pandas as pd\n",
    "import numpy as np \n",
    "import requests"
   ]
  },
  {
   "cell_type": "markdown",
   "metadata": {},
   "source": [
    "## Step 1a: Scraping reviews with BeautifulSoup"
   ]
  },
  {
   "cell_type": "code",
   "execution_count": 2,
   "metadata": {},
   "outputs": [],
   "source": [
    "from bs4 import BeautifulSoup\n",
    "import json\n",
    "import re "
   ]
  },
  {
   "cell_type": "markdown",
   "metadata": {},
   "source": [
    "### Development: extract reviews only from the first page"
   ]
  },
  {
   "cell_type": "code",
   "execution_count": 3,
   "metadata": {},
   "outputs": [],
   "source": [
    "# URL\n",
    "URL = 'https://uk.trustpilot.com/review/tescomobile.com?page=1'"
   ]
  },
  {
   "cell_type": "code",
   "execution_count": 4,
   "metadata": {},
   "outputs": [],
   "source": [
    "# get the contents of the first page \n",
    "page = requests.get(URL)\n",
    "soup = BeautifulSoup(page.content, 'html.parser')"
   ]
  },
  {
   "cell_type": "code",
   "execution_count": 5,
   "metadata": {},
   "outputs": [],
   "source": [
    "# find all containers with reviews (20x per page)\n",
    "review_cards = soup.find_all('div', class_='review-card')\n",
    "review_cards_json = soup.find_all('script', {'data-initial-state':'review-info'})"
   ]
  },
  {
   "cell_type": "code",
   "execution_count": 6,
   "metadata": {},
   "outputs": [],
   "source": [
    "# instantiate empty lists\n",
    "review_id = []\n",
    "published_date = []\n",
    "updated_date = []\n",
    "reported_date = []\n",
    "review_stars = []\n",
    "review_text = []\n",
    "\n",
    "for card in review_cards:\n",
    "    # extract review id\n",
    "    rid = card.find('article', {'class':'review'})['id']\n",
    "\n",
    "    # extract review dates \n",
    "    review_dates_json = card.find('script', {'data-initial-state':'review-dates'})\n",
    "    review_dates = json.loads(''.join(str(c) for c in review_dates_json.contents))\n",
    "    pub_date = review_dates['publishedDate']\n",
    "    upd_date = review_dates['updatedDate']\n",
    "    rep_date = review_dates['reportedDate']\n",
    "\n",
    "    # extract star rating \n",
    "    star_rating = card.find('div', class_='star-rating').find('img')['alt']\n",
    "    stars = int(re.findall(r'\\d', star_rating)[0])\n",
    "\n",
    "    # extract review text \n",
    "    review_content = card.find('p', class_='review-content__text').text.strip()\n",
    "\n",
    "    # append extracted information\n",
    "    review_id.append(rid)\n",
    "    published_date.append(pub_date)\n",
    "    updated_date.append(upd_date)\n",
    "    reported_date.append(rep_date)\n",
    "    review_stars.append(stars)\n",
    "    review_text.append(review_content)"
   ]
  },
  {
   "cell_type": "code",
   "execution_count": 7,
   "metadata": {
    "scrolled": true
   },
   "outputs": [
    {
     "data": {
      "text/plain": [
       "[1, 5, 5, 1, 1, 1, 1, 1, 1, 3, 5, 1, 1, 1, 1, 1, 1, 1, 5, 5]"
      ]
     },
     "execution_count": 7,
     "metadata": {},
     "output_type": "execute_result"
    }
   ],
   "source": [
    "# inspect\n",
    "review_stars"
   ]
  },
  {
   "cell_type": "code",
   "execution_count": 8,
   "metadata": {},
   "outputs": [
    {
     "data": {
      "text/html": [
       "<div>\n",
       "<style scoped>\n",
       "    .dataframe tbody tr th:only-of-type {\n",
       "        vertical-align: middle;\n",
       "    }\n",
       "\n",
       "    .dataframe tbody tr th {\n",
       "        vertical-align: top;\n",
       "    }\n",
       "\n",
       "    .dataframe thead th {\n",
       "        text-align: right;\n",
       "    }\n",
       "</style>\n",
       "<table border=\"1\" class=\"dataframe\">\n",
       "  <thead>\n",
       "    <tr style=\"text-align: right;\">\n",
       "      <th></th>\n",
       "      <th>review_id</th>\n",
       "      <th>published_date</th>\n",
       "      <th>updated_date</th>\n",
       "      <th>reported_date</th>\n",
       "      <th>stars</th>\n",
       "      <th>review_text</th>\n",
       "    </tr>\n",
       "  </thead>\n",
       "  <tbody>\n",
       "    <tr>\n",
       "      <th>0</th>\n",
       "      <td>5f50b0b202e85708c8ded2b2</td>\n",
       "      <td>2020-09-03T09:00:34Z</td>\n",
       "      <td>None</td>\n",
       "      <td>None</td>\n",
       "      <td>1</td>\n",
       "      <td>I have a sim only contract with Tesco. I wonde...</td>\n",
       "    </tr>\n",
       "    <tr>\n",
       "      <th>1</th>\n",
       "      <td>5f500e0702e85708c8de960a</td>\n",
       "      <td>2020-09-02T21:26:31Z</td>\n",
       "      <td>None</td>\n",
       "      <td>None</td>\n",
       "      <td>5</td>\n",
       "      <td>I have been with Tesco Mobile 1 year and I can...</td>\n",
       "    </tr>\n",
       "    <tr>\n",
       "      <th>2</th>\n",
       "      <td>5f4d936d02e8570814fd0908</td>\n",
       "      <td>2020-09-01T00:18:53Z</td>\n",
       "      <td>None</td>\n",
       "      <td>None</td>\n",
       "      <td>5</td>\n",
       "      <td>ive been with Tesco sim only plan for over a d...</td>\n",
       "    </tr>\n",
       "    <tr>\n",
       "      <th>3</th>\n",
       "      <td>5f4cece702e8570814fc9996</td>\n",
       "      <td>2020-08-31T12:28:23Z</td>\n",
       "      <td>None</td>\n",
       "      <td>None</td>\n",
       "      <td>1</td>\n",
       "      <td>No signal coverage where my vodaphone account ...</td>\n",
       "    </tr>\n",
       "    <tr>\n",
       "      <th>4</th>\n",
       "      <td>5f4b850e02e8570814fc02d7</td>\n",
       "      <td>2020-08-30T10:53:02Z</td>\n",
       "      <td>2020-09-02T21:16:40Z</td>\n",
       "      <td>None</td>\n",
       "      <td>1</td>\n",
       "      <td>Can't top up my pay as you go account online, ...</td>\n",
       "    </tr>\n",
       "  </tbody>\n",
       "</table>\n",
       "</div>"
      ],
      "text/plain": [
       "                  review_id        published_date          updated_date  \\\n",
       "0  5f50b0b202e85708c8ded2b2  2020-09-03T09:00:34Z                  None   \n",
       "1  5f500e0702e85708c8de960a  2020-09-02T21:26:31Z                  None   \n",
       "2  5f4d936d02e8570814fd0908  2020-09-01T00:18:53Z                  None   \n",
       "3  5f4cece702e8570814fc9996  2020-08-31T12:28:23Z                  None   \n",
       "4  5f4b850e02e8570814fc02d7  2020-08-30T10:53:02Z  2020-09-02T21:16:40Z   \n",
       "\n",
       "  reported_date  stars                                        review_text  \n",
       "0          None      1  I have a sim only contract with Tesco. I wonde...  \n",
       "1          None      5  I have been with Tesco Mobile 1 year and I can...  \n",
       "2          None      5  ive been with Tesco sim only plan for over a d...  \n",
       "3          None      1  No signal coverage where my vodaphone account ...  \n",
       "4          None      1  Can't top up my pay as you go account online, ...  "
      ]
     },
     "execution_count": 8,
     "metadata": {},
     "output_type": "execute_result"
    }
   ],
   "source": [
    "# create a DataFrame\n",
    "df = pd.DataFrame({\n",
    "    'review_id': review_id, \n",
    "    'published_date': published_date,\n",
    "    'updated_date': updated_date,\n",
    "    'reported_date': reported_date,\n",
    "    'stars': review_stars,\n",
    "    'review_text': review_text})\n",
    "\n",
    "# inspect\n",
    "df.head()"
   ]
  },
  {
   "cell_type": "markdown",
   "metadata": {},
   "source": [
    "### Production: Create functions to extract pages of reviews"
   ]
  },
  {
   "cell_type": "code",
   "execution_count": 9,
   "metadata": {},
   "outputs": [],
   "source": [
    "# create a function to loop across pages and extract information from them\n",
    "def scrape_trustpilot(url, num_pages=1):\n",
    "    \"\"\" Scrape n pages of reviews from Truspilot starting from the oldest in the range.\"\"\"\n",
    "    \n",
    "    for i in range(num_pages, 0, -1):\n",
    "        # construct URL\n",
    "        url_fin = url + '?page=' + str(i)\n",
    "        \n",
    "        # get the contents of the first page \n",
    "        print(f'Page: {i:3} ...', end=' ')\n",
    "        page = requests.get(url_fin)\n",
    "        soup = BeautifulSoup(page.content, 'html.parser') \n",
    "        \n",
    "        # find all review cards\n",
    "        review_cards = soup.find_all('div', class_='review-card')\n",
    "        \n",
    "        # \n",
    "        extract_one_page(review_cards)\n",
    "        print('done')\n",
    "        \n",
    "\n",
    "# create a function to scrape each page \n",
    "def extract_one_page(review_cards):\n",
    "    for card in review_cards:\n",
    "        # extract review id\n",
    "        rid = card.find('article', {'class':'review'})['id']\n",
    "        \n",
    "        # extract review dates \n",
    "        review_dates_json = card.find('script', {'data-initial-state':'review-dates'})\n",
    "#         review_dates = json.loads(review_dates_json.text)\n",
    "        review_dates = json.loads(''.join(str(c) for c in review_dates_json.contents))\n",
    "        pub_date = review_dates['publishedDate']\n",
    "        upd_date = review_dates['updatedDate']\n",
    "        rep_date = review_dates['reportedDate']\n",
    "        \n",
    "        # extract star rating \n",
    "        star_rating = card.find('div', class_='star-rating').find('img')['alt']\n",
    "        stars = int(re.findall(r'\\d', star_rating)[0])\n",
    "        \n",
    "        # extract review text \n",
    "        # sometimes, review text can be None\n",
    "        try:\n",
    "            review_content = card.find('p', class_='review-content__text').text.strip()\n",
    "        except:\n",
    "            review_content = np.nan\n",
    "        \n",
    "        # append extracted information\n",
    "        review_id.append(rid)\n",
    "        published_date.append(pub_date)\n",
    "        updated_date.append(upd_date)\n",
    "        reported_date.append(rep_date)\n",
    "        review_stars.append(stars)\n",
    "        review_text.append(review_content)\n",
    "        \n",
    "def clear_contents():\n",
    "#     global review_id, published_date\n",
    "    list_of_globals = globals()\n",
    "    list_of_globals['review_id'] = []\n",
    "    list_of_globals['published_date'] = []\n",
    "    list_of_globals['updated_date'] = []\n",
    "    list_of_globals['reported_date'] = []\n",
    "    list_of_globals['review_stars'] = []\n",
    "    list_of_globals['review_text'] = []\n",
    "    \n",
    "    list_of_globals['df'] = pd.DataFrame()"
   ]
  },
  {
   "cell_type": "code",
   "execution_count": 10,
   "metadata": {},
   "outputs": [
    {
     "name": "stdout",
     "output_type": "stream",
     "text": [
      "Page:   5 ... done\n",
      "Page:   4 ... done\n",
      "Page:   3 ... done\n",
      "Page:   2 ... done\n",
      "Page:   1 ... done\n"
     ]
    }
   ],
   "source": [
    "# extract reviews\n",
    "# at most tried with 40 pages and it worked ok \n",
    "clear_contents()\n",
    "scrape_trustpilot('https://uk.trustpilot.com/review/tescomobile.com', num_pages=5)"
   ]
  },
  {
   "cell_type": "code",
   "execution_count": 11,
   "metadata": {},
   "outputs": [
    {
     "data": {
      "text/html": [
       "<div>\n",
       "<style scoped>\n",
       "    .dataframe tbody tr th:only-of-type {\n",
       "        vertical-align: middle;\n",
       "    }\n",
       "\n",
       "    .dataframe tbody tr th {\n",
       "        vertical-align: top;\n",
       "    }\n",
       "\n",
       "    .dataframe thead th {\n",
       "        text-align: right;\n",
       "    }\n",
       "</style>\n",
       "<table border=\"1\" class=\"dataframe\">\n",
       "  <thead>\n",
       "    <tr style=\"text-align: right;\">\n",
       "      <th></th>\n",
       "      <th>review_id</th>\n",
       "      <th>published_date</th>\n",
       "      <th>updated_date</th>\n",
       "      <th>reported_date</th>\n",
       "      <th>stars</th>\n",
       "      <th>review_text</th>\n",
       "    </tr>\n",
       "  </thead>\n",
       "  <tbody>\n",
       "    <tr>\n",
       "      <th>0</th>\n",
       "      <td>5f0354343f06f20658d3978a</td>\n",
       "      <td>2020-07-06T16:41:24Z</td>\n",
       "      <td>None</td>\n",
       "      <td>None</td>\n",
       "      <td>1</td>\n",
       "      <td>Bought an Acatel mobile (£24.99) for my elderl...</td>\n",
       "    </tr>\n",
       "    <tr>\n",
       "      <th>1</th>\n",
       "      <td>5f02bb7d3f06f20a94d9814f</td>\n",
       "      <td>2020-07-06T05:49:49Z</td>\n",
       "      <td>None</td>\n",
       "      <td>None</td>\n",
       "      <td>1</td>\n",
       "      <td>Steer clear if these highway robbers, if they ...</td>\n",
       "    </tr>\n",
       "    <tr>\n",
       "      <th>2</th>\n",
       "      <td>5f01e1653f06f20a94d92bd3</td>\n",
       "      <td>2020-07-05T14:19:17Z</td>\n",
       "      <td>2020-07-06T15:27:03Z</td>\n",
       "      <td>None</td>\n",
       "      <td>1</td>\n",
       "      <td>Cant  remember a worst experience ever!! Shock...</td>\n",
       "    </tr>\n",
       "    <tr>\n",
       "      <th>3</th>\n",
       "      <td>5f0054133f06f20658d1e62b</td>\n",
       "      <td>2020-07-04T10:04:03Z</td>\n",
       "      <td>None</td>\n",
       "      <td>None</td>\n",
       "      <td>1</td>\n",
       "      <td>Like 1000s of others I am a victim of this com...</td>\n",
       "    </tr>\n",
       "    <tr>\n",
       "      <th>4</th>\n",
       "      <td>5f003e983f06f20a94d85d5a</td>\n",
       "      <td>2020-07-04T08:32:24Z</td>\n",
       "      <td>None</td>\n",
       "      <td>None</td>\n",
       "      <td>1</td>\n",
       "      <td>I didn't even had the chance to enjoy being th...</td>\n",
       "    </tr>\n",
       "  </tbody>\n",
       "</table>\n",
       "</div>"
      ],
      "text/plain": [
       "                  review_id        published_date          updated_date  \\\n",
       "0  5f0354343f06f20658d3978a  2020-07-06T16:41:24Z                  None   \n",
       "1  5f02bb7d3f06f20a94d9814f  2020-07-06T05:49:49Z                  None   \n",
       "2  5f01e1653f06f20a94d92bd3  2020-07-05T14:19:17Z  2020-07-06T15:27:03Z   \n",
       "3  5f0054133f06f20658d1e62b  2020-07-04T10:04:03Z                  None   \n",
       "4  5f003e983f06f20a94d85d5a  2020-07-04T08:32:24Z                  None   \n",
       "\n",
       "  reported_date  stars                                        review_text  \n",
       "0          None      1  Bought an Acatel mobile (£24.99) for my elderl...  \n",
       "1          None      1  Steer clear if these highway robbers, if they ...  \n",
       "2          None      1  Cant  remember a worst experience ever!! Shock...  \n",
       "3          None      1  Like 1000s of others I am a victim of this com...  \n",
       "4          None      1  I didn't even had the chance to enjoy being th...  "
      ]
     },
     "execution_count": 11,
     "metadata": {},
     "output_type": "execute_result"
    }
   ],
   "source": [
    "# create a DataFrame\n",
    "df = pd.DataFrame({\n",
    "    'review_id': review_id, \n",
    "    'published_date': published_date,\n",
    "    'updated_date': updated_date,\n",
    "    'reported_date': reported_date,\n",
    "    'stars': review_stars,\n",
    "    'review_text': review_text})\n",
    "\n",
    "# inspect\n",
    "df.head()"
   ]
  },
  {
   "cell_type": "code",
   "execution_count": 12,
   "metadata": {},
   "outputs": [],
   "source": [
    "# parse dates \n",
    "date_cols = ['published_date','updated_date','reported_date']\n",
    "\n",
    "for col in date_cols:\n",
    "    df[col] = pd.to_datetime(df[col])"
   ]
  },
  {
   "cell_type": "code",
   "execution_count": 13,
   "metadata": {
    "scrolled": false
   },
   "outputs": [
    {
     "name": "stdout",
     "output_type": "stream",
     "text": [
      "<class 'pandas.core.frame.DataFrame'>\n",
      "RangeIndex: 100 entries, 0 to 99\n",
      "Data columns (total 6 columns):\n",
      " #   Column          Non-Null Count  Dtype              \n",
      "---  ------          --------------  -----              \n",
      " 0   review_id       100 non-null    object             \n",
      " 1   published_date  100 non-null    datetime64[ns, UTC]\n",
      " 2   updated_date    29 non-null     datetime64[ns, UTC]\n",
      " 3   reported_date   0 non-null      datetime64[ns]     \n",
      " 4   stars           100 non-null    int64              \n",
      " 5   review_text     100 non-null    object             \n",
      "dtypes: datetime64[ns, UTC](2), datetime64[ns](1), int64(1), object(2)\n",
      "memory usage: 4.8+ KB\n"
     ]
    }
   ],
   "source": [
    "# inspect stats \n",
    "df.info()"
   ]
  },
  {
   "cell_type": "code",
   "execution_count": null,
   "metadata": {},
   "outputs": [],
   "source": [
    "# export data to .csv\n",
    "df.to_csv('../data/tp_reviews_20180915_20200830.csv', index=False)"
   ]
  },
  {
   "cell_type": "markdown",
   "metadata": {},
   "source": [
    "### Data Validation (draft)"
   ]
  },
  {
   "cell_type": "code",
   "execution_count": 14,
   "metadata": {},
   "outputs": [
    {
     "data": {
      "text/plain": [
       "Timestamp('2020-06-26 10:08:40+0000', tz='UTC')"
      ]
     },
     "execution_count": 14,
     "metadata": {},
     "output_type": "execute_result"
    }
   ],
   "source": [
    "# oldest review\n",
    "df['published_date'].min()"
   ]
  },
  {
   "cell_type": "code",
   "execution_count": 15,
   "metadata": {},
   "outputs": [
    {
     "data": {
      "text/plain": [
       "<matplotlib.axes._subplots.AxesSubplot at 0x1f1f6235d60>"
      ]
     },
     "execution_count": 15,
     "metadata": {},
     "output_type": "execute_result"
    },
    {
     "data": {
      "image/png": "[encoded data removed]",
      "text/plain": [
       "<Figure size 432x288 with 1 Axes>"
      ]
     },
     "metadata": {
      "needs_background": "light"
     },
     "output_type": "display_data"
    }
   ],
   "source": [
    "# distribution of star ratings \n",
    "import matplotlib.pyplot as plt \n",
    "import seaborn as sns \n",
    "\n",
    "sns.countplot(df['stars'])"
   ]
  },
  {
   "cell_type": "code",
   "execution_count": 16,
   "metadata": {},
   "outputs": [
    {
     "data": {
      "text/plain": [
       "1.58"
      ]
     },
     "execution_count": 16,
     "metadata": {},
     "output_type": "execute_result"
    }
   ],
   "source": [
    "# average star rating \n",
    "df['stars'].mean()"
   ]
  },
  {
   "cell_type": "code",
   "execution_count": 17,
   "metadata": {},
   "outputs": [
    {
     "data": {
      "text/plain": [
       "Text(0.5, 1.0, 'Average rating of new reviews')"
      ]
     },
     "execution_count": 17,
     "metadata": {},
     "output_type": "execute_result"
    },
    {
     "data": {
      "image/png": "[encoded data removed]",
      "text/plain": [
       "<Figure size 1008x288 with 1 Axes>"
      ]
     },
     "metadata": {
      "needs_background": "light"
     },
     "output_type": "display_data"
    }
   ],
   "source": [
    "# average rating by day\n",
    "ratings = df[['published_date','stars']].sort_values('published_date').set_index('published_date')\n",
    "daily_average_7 = ratings.rolling('7D').mean()\n",
    "\n",
    "# plot it \n",
    "plt.figure(figsize=(14,4))\n",
    "plt.plot(daily_average_7[7:])\n",
    "\n",
    "# annotate it \n",
    "plt.title('Average rating of new reviews')"
   ]
  },
  {
   "cell_type": "code",
   "execution_count": 18,
   "metadata": {},
   "outputs": [
    {
     "data": {
      "text/html": [
       "<div>\n",
       "<style scoped>\n",
       "    .dataframe tbody tr th:only-of-type {\n",
       "        vertical-align: middle;\n",
       "    }\n",
       "\n",
       "    .dataframe tbody tr th {\n",
       "        vertical-align: top;\n",
       "    }\n",
       "\n",
       "    .dataframe thead th {\n",
       "        text-align: right;\n",
       "    }\n",
       "</style>\n",
       "<table border=\"1\" class=\"dataframe\">\n",
       "  <thead>\n",
       "    <tr style=\"text-align: right;\">\n",
       "      <th></th>\n",
       "      <th>review_id</th>\n",
       "      <th>published_date</th>\n",
       "      <th>updated_date</th>\n",
       "      <th>reported_date</th>\n",
       "      <th>stars</th>\n",
       "      <th>review_text</th>\n",
       "    </tr>\n",
       "  </thead>\n",
       "  <tbody>\n",
       "  </tbody>\n",
       "</table>\n",
       "</div>"
      ],
      "text/plain": [
       "Empty DataFrame\n",
       "Columns: [review_id, published_date, updated_date, reported_date, stars, review_text]\n",
       "Index: []"
      ]
     },
     "execution_count": 18,
     "metadata": {},
     "output_type": "execute_result"
    }
   ],
   "source": [
    "df[df['review_text'].isna()]"
   ]
  }
 ],
 "metadata": {
  "kernelspec": {
   "display_name": "Python 3",
   "language": "python",
   "name": "python3"
  },
  "language_info": {
   "codemirror_mode": {
    "name": "ipython",
    "version": 3
   },
   "file_extension": ".py",
   "mimetype": "text/x-python",
   "name": "python",
   "nbconvert_exporter": "python",
   "pygments_lexer": "ipython3",
   "version": "3.8.3"
  }
 },
 "nbformat": 4,
 "nbformat_minor": 4
}
